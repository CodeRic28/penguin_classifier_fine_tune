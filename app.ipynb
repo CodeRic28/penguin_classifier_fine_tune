{
  "nbformat": 4,
  "nbformat_minor": 0,
  "metadata": {
    "colab": {
      "provenance": []
    },
    "kernelspec": {
      "name": "python3",
      "display_name": "Python 3"
    },
    "language_info": {
      "name": "python"
    }
  },
  "cells": [
    {
      "cell_type": "code",
      "execution_count": 53,
      "metadata": {
        "id": "3ApgV8Q1Ohl2"
      },
      "outputs": [],
      "source": [
        "from fastai.vision.all import *\n",
        "import gradio as gr\n",
        "import skimage"
      ]
    },
    {
      "cell_type": "code",
      "source": [
        "learn = load_learner('export.pkl')"
      ],
      "metadata": {
        "id": "hird9r2DPsZT"
      },
      "execution_count": 54,
      "outputs": []
    },
    {
      "cell_type": "code",
      "source": [
        "labels = learn.dls.vocab\n",
        "def predict(img):\n",
        "  img = PILImage.create(img)\n",
        "  pred,pred_idx,probs = learn.predict(img)\n",
        "  return {labels[i]: float(probs[i]) for i in range(len(labels))}\n"
      ],
      "metadata": {
        "id": "Dy_Za0VxV-Jb"
      },
      "execution_count": 55,
      "outputs": []
    },
    {
      "cell_type": "code",
      "source": [
        "title = \"Penguin Classifier\"\n",
        "description = \"A Penguin breed classifier fine tuned on resnet18 architecture with fastai\"\n",
        "article=\"<p style='text-align: center'><a href='https://github.com/CodeRic28/penguin_classifier_fine_tune' target='_blank'>Blog post</a></p>\""
      ],
      "metadata": {
        "id": "xYkYpzTiUJBa"
      },
      "execution_count": 56,
      "outputs": []
    },
    {
      "cell_type": "code",
      "source": [
        "examples = ['images/gentoo1.jpg','images/king_peng.jpg']\n",
        "gr.Interface(fn=predict, inputs=gr.inputs.Image(shape=(512, 512)), outputs=gr.outputs.Label(num_top_classes=3),examples=examples,title=title,description=description,article=article).launch(share=True)\n"
      ],
      "metadata": {
        "colab": {
          "base_uri": "https://localhost:8080/",
          "height": 760
        },
        "id": "3y6kSSIPWOc1",
        "outputId": "9a6928cf-67e0-478f-ddb7-f5eb542ea59a"
      },
      "execution_count": 57,
      "outputs": [
        {
          "output_type": "stream",
          "name": "stderr",
          "text": [
            "<ipython-input-57-4d815fe50244>:2: GradioDeprecationWarning: Usage of gradio.inputs is deprecated, and will not be supported in the future, please import your component from gradio.components\n",
            "  gr.Interface(fn=predict, inputs=gr.inputs.Image(shape=(512, 512)), outputs=gr.outputs.Label(num_top_classes=3),examples=examples,title=title,description=description,article=article).launch(share=True)\n",
            "<ipython-input-57-4d815fe50244>:2: GradioDeprecationWarning: `optional` parameter is deprecated, and it has no effect\n",
            "  gr.Interface(fn=predict, inputs=gr.inputs.Image(shape=(512, 512)), outputs=gr.outputs.Label(num_top_classes=3),examples=examples,title=title,description=description,article=article).launch(share=True)\n",
            "<ipython-input-57-4d815fe50244>:2: GradioDeprecationWarning: Usage of gradio.outputs is deprecated, and will not be supported in the future, please import your components from gradio.components\n",
            "  gr.Interface(fn=predict, inputs=gr.inputs.Image(shape=(512, 512)), outputs=gr.outputs.Label(num_top_classes=3),examples=examples,title=title,description=description,article=article).launch(share=True)\n",
            "<ipython-input-57-4d815fe50244>:2: GradioUnusedKwargWarning: You have unused kwarg parameters in Label, please remove them: {'type': 'auto'}\n",
            "  gr.Interface(fn=predict, inputs=gr.inputs.Image(shape=(512, 512)), outputs=gr.outputs.Label(num_top_classes=3),examples=examples,title=title,description=description,article=article).launch(share=True)\n"
          ]
        },
        {
          "output_type": "stream",
          "name": "stdout",
          "text": [
            "Colab notebook detected. To show errors in colab notebook, set debug=True in launch()\n",
            "Running on public URL: https://2a45bfa94499e314a0.gradio.live\n",
            "\n",
            "This share link expires in 72 hours. For free permanent hosting and GPU upgrades, run `gradio deploy` from Terminal to deploy to Spaces (https://huggingface.co/spaces)\n"
          ]
        },
        {
          "output_type": "display_data",
          "data": {
            "text/plain": [
              "<IPython.core.display.HTML object>"
            ],
            "text/html": [
              "<div><iframe src=\"https://2a45bfa94499e314a0.gradio.live\" width=\"100%\" height=\"500\" allow=\"autoplay; camera; microphone; clipboard-read; clipboard-write;\" frameborder=\"0\" allowfullscreen></iframe></div>"
            ]
          },
          "metadata": {}
        },
        {
          "output_type": "execute_result",
          "data": {
            "text/plain": []
          },
          "metadata": {},
          "execution_count": 57
        }
      ]
    },
    {
      "cell_type": "code",
      "source": [],
      "metadata": {
        "id": "h0ONnMNXWnn3"
      },
      "execution_count": 50,
      "outputs": []
    },
    {
      "cell_type": "code",
      "source": [],
      "metadata": {
        "id": "LH_9bfr2bAtv"
      },
      "execution_count": 52,
      "outputs": []
    },
    {
      "cell_type": "code",
      "source": [],
      "metadata": {
        "id": "B5EEA7UkbGBO"
      },
      "execution_count": 52,
      "outputs": []
    },
    {
      "cell_type": "code",
      "source": [],
      "metadata": {
        "id": "8fI92d4lbH2F"
      },
      "execution_count": 52,
      "outputs": []
    },
    {
      "cell_type": "code",
      "source": [],
      "metadata": {
        "id": "xQS-dg5fbfkr"
      },
      "execution_count": null,
      "outputs": []
    }
  ]
}