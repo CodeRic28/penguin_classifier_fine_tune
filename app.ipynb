{
 "cells": [
  {
   "cell_type": "code",
   "execution_count": 1,
   "id": "37a8d003-4c13-4324-afcb-a9b70226f684",
   "metadata": {},
   "outputs": [
    {
     "name": "stdout",
     "output_type": "stream",
     "text": [
      "Defaulting to user installation because normal site-packages is not writeable\n",
      "Requirement already satisfied: voila in /home/deep-thought/.local/lib/python3.11/site-packages (0.5.2)\n",
      "Requirement already satisfied: jupyter-client<9,>=7.4.4 in /home/deep-thought/.local/lib/python3.11/site-packages (from voila) (8.3.1)\n",
      "Requirement already satisfied: jupyter-core>=4.11.0 in /home/deep-thought/.local/lib/python3.11/site-packages (from voila) (5.3.1)\n",
      "Requirement already satisfied: jupyter-server<3,>=2.0.0 in /home/deep-thought/.local/lib/python3.11/site-packages (from voila) (2.7.2)\n",
      "Requirement already satisfied: jupyterlab-server<3,>=2.3.0 in /home/deep-thought/.local/lib/python3.11/site-packages (from voila) (2.24.0)\n",
      "Requirement already satisfied: nbclient<0.8,>=0.4.0 in /home/deep-thought/.local/lib/python3.11/site-packages (from voila) (0.7.4)\n",
      "Requirement already satisfied: nbconvert<8,>=6.4.5 in /home/deep-thought/.local/lib/python3.11/site-packages (from voila) (7.8.0)\n",
      "Requirement already satisfied: traitlets<6,>=5.0.3 in /home/deep-thought/.local/lib/python3.11/site-packages (from voila) (5.9.0)\n",
      "Requirement already satisfied: websockets>=9.0 in /home/deep-thought/.local/lib/python3.11/site-packages (from voila) (11.0.3)\n",
      "Requirement already satisfied: python-dateutil>=2.8.2 in /usr/lib/python3.11/site-packages (from jupyter-client<9,>=7.4.4->voila) (2.8.2)\n",
      "Requirement already satisfied: pyzmq>=23.0 in /home/deep-thought/.local/lib/python3.11/site-packages (from jupyter-client<9,>=7.4.4->voila) (25.1.1)\n",
      "Requirement already satisfied: tornado>=6.2 in /home/deep-thought/.local/lib/python3.11/site-packages (from jupyter-client<9,>=7.4.4->voila) (6.3.3)\n",
      "Requirement already satisfied: platformdirs>=2.5 in /home/deep-thought/.local/lib/python3.11/site-packages (from jupyter-core>=4.11.0->voila) (3.10.0)\n",
      "Requirement already satisfied: anyio>=3.1.0 in /home/deep-thought/.local/lib/python3.11/site-packages (from jupyter-server<3,>=2.0.0->voila) (4.0.0)\n",
      "Requirement already satisfied: argon2-cffi in /home/deep-thought/.local/lib/python3.11/site-packages (from jupyter-server<3,>=2.0.0->voila) (23.1.0)\n",
      "Requirement already satisfied: jinja2 in /home/deep-thought/.local/lib/python3.11/site-packages (from jupyter-server<3,>=2.0.0->voila) (3.1.2)\n",
      "Requirement already satisfied: jupyter-events>=0.6.0 in /home/deep-thought/.local/lib/python3.11/site-packages (from jupyter-server<3,>=2.0.0->voila) (0.7.0)\n",
      "Requirement already satisfied: jupyter-server-terminals in /home/deep-thought/.local/lib/python3.11/site-packages (from jupyter-server<3,>=2.0.0->voila) (0.4.4)\n",
      "Requirement already satisfied: nbformat>=5.3.0 in /home/deep-thought/.local/lib/python3.11/site-packages (from jupyter-server<3,>=2.0.0->voila) (5.9.2)\n",
      "Requirement already satisfied: overrides in /home/deep-thought/.local/lib/python3.11/site-packages (from jupyter-server<3,>=2.0.0->voila) (7.4.0)\n",
      "Requirement already satisfied: packaging in /usr/lib/python3.11/site-packages (from jupyter-server<3,>=2.0.0->voila) (23.0)\n",
      "Requirement already satisfied: prometheus-client in /home/deep-thought/.local/lib/python3.11/site-packages (from jupyter-server<3,>=2.0.0->voila) (0.17.1)\n",
      "Requirement already satisfied: send2trash>=1.8.2 in /home/deep-thought/.local/lib/python3.11/site-packages (from jupyter-server<3,>=2.0.0->voila) (1.8.2)\n",
      "Requirement already satisfied: terminado>=0.8.3 in /home/deep-thought/.local/lib/python3.11/site-packages (from jupyter-server<3,>=2.0.0->voila) (0.17.1)\n",
      "Requirement already satisfied: websocket-client in /home/deep-thought/.local/lib/python3.11/site-packages (from jupyter-server<3,>=2.0.0->voila) (1.6.2)\n",
      "Requirement already satisfied: babel>=2.10 in /usr/lib/python3.11/site-packages (from jupyterlab-server<3,>=2.3.0->voila) (2.11.0)\n",
      "Requirement already satisfied: json5>=0.9.0 in /home/deep-thought/.local/lib/python3.11/site-packages (from jupyterlab-server<3,>=2.3.0->voila) (0.9.14)\n",
      "Requirement already satisfied: jsonschema>=4.17.3 in /home/deep-thought/.local/lib/python3.11/site-packages (from jupyterlab-server<3,>=2.3.0->voila) (4.19.0)\n",
      "Requirement already satisfied: requests>=2.28 in /usr/lib/python3.11/site-packages (from jupyterlab-server<3,>=2.3.0->voila) (2.28.2)\n",
      "Requirement already satisfied: beautifulsoup4 in /usr/lib/python3.11/site-packages (from nbconvert<8,>=6.4.5->voila) (4.12.2)\n",
      "Requirement already satisfied: bleach!=5.0.0 in /home/deep-thought/.local/lib/python3.11/site-packages (from nbconvert<8,>=6.4.5->voila) (6.0.0)\n",
      "Requirement already satisfied: defusedxml in /home/deep-thought/.local/lib/python3.11/site-packages (from nbconvert<8,>=6.4.5->voila) (0.7.1)\n",
      "Requirement already satisfied: jupyterlab-pygments in /home/deep-thought/.local/lib/python3.11/site-packages (from nbconvert<8,>=6.4.5->voila) (0.2.2)\n",
      "Requirement already satisfied: markupsafe>=2.0 in /usr/lib64/python3.11/site-packages (from nbconvert<8,>=6.4.5->voila) (2.1.2)\n",
      "Requirement already satisfied: mistune<4,>=2.0.3 in /home/deep-thought/.local/lib/python3.11/site-packages (from nbconvert<8,>=6.4.5->voila) (3.0.1)\n",
      "Requirement already satisfied: pandocfilters>=1.4.1 in /home/deep-thought/.local/lib/python3.11/site-packages (from nbconvert<8,>=6.4.5->voila) (1.5.0)\n",
      "Requirement already satisfied: pygments>=2.4.1 in /home/deep-thought/.local/lib/python3.11/site-packages (from nbconvert<8,>=6.4.5->voila) (2.16.1)\n",
      "Requirement already satisfied: tinycss2 in /home/deep-thought/.local/lib/python3.11/site-packages (from nbconvert<8,>=6.4.5->voila) (1.2.1)\n",
      "Requirement already satisfied: idna>=2.8 in /usr/lib/python3.11/site-packages (from anyio>=3.1.0->jupyter-server<3,>=2.0.0->voila) (3.4)\n",
      "Requirement already satisfied: sniffio>=1.1 in /home/deep-thought/.local/lib/python3.11/site-packages (from anyio>=3.1.0->jupyter-server<3,>=2.0.0->voila) (1.3.0)\n",
      "Requirement already satisfied: pytz>=2015.7 in /usr/lib/python3.11/site-packages (from babel>=2.10->jupyterlab-server<3,>=2.3.0->voila) (2023.3.post1)\n",
      "Requirement already satisfied: six>=1.9.0 in /usr/lib/python3.11/site-packages (from bleach!=5.0.0->nbconvert<8,>=6.4.5->voila) (1.16.0)\n",
      "Requirement already satisfied: webencodings in /home/deep-thought/.local/lib/python3.11/site-packages (from bleach!=5.0.0->nbconvert<8,>=6.4.5->voila) (0.5.1)\n",
      "Requirement already satisfied: attrs>=22.2.0 in /home/deep-thought/.local/lib/python3.11/site-packages (from jsonschema>=4.17.3->jupyterlab-server<3,>=2.3.0->voila) (23.1.0)\n",
      "Requirement already satisfied: jsonschema-specifications>=2023.03.6 in /home/deep-thought/.local/lib/python3.11/site-packages (from jsonschema>=4.17.3->jupyterlab-server<3,>=2.3.0->voila) (2023.7.1)\n",
      "Requirement already satisfied: referencing>=0.28.4 in /home/deep-thought/.local/lib/python3.11/site-packages (from jsonschema>=4.17.3->jupyterlab-server<3,>=2.3.0->voila) (0.30.2)\n",
      "Requirement already satisfied: rpds-py>=0.7.1 in /home/deep-thought/.local/lib/python3.11/site-packages (from jsonschema>=4.17.3->jupyterlab-server<3,>=2.3.0->voila) (0.10.0)\n",
      "Requirement already satisfied: python-json-logger>=2.0.4 in /home/deep-thought/.local/lib/python3.11/site-packages (from jupyter-events>=0.6.0->jupyter-server<3,>=2.0.0->voila) (2.0.7)\n",
      "Requirement already satisfied: pyyaml>=5.3 in /usr/lib64/python3.11/site-packages (from jupyter-events>=0.6.0->jupyter-server<3,>=2.0.0->voila) (6.0)\n",
      "Requirement already satisfied: rfc3339-validator in /home/deep-thought/.local/lib/python3.11/site-packages (from jupyter-events>=0.6.0->jupyter-server<3,>=2.0.0->voila) (0.1.4)\n",
      "Requirement already satisfied: rfc3986-validator>=0.1.1 in /home/deep-thought/.local/lib/python3.11/site-packages (from jupyter-events>=0.6.0->jupyter-server<3,>=2.0.0->voila) (0.1.1)\n",
      "Requirement already satisfied: fastjsonschema in /home/deep-thought/.local/lib/python3.11/site-packages (from nbformat>=5.3.0->jupyter-server<3,>=2.0.0->voila) (2.18.0)\n",
      "Requirement already satisfied: charset-normalizer<4,>=2 in /usr/lib/python3.11/site-packages (from requests>=2.28->jupyterlab-server<3,>=2.3.0->voila) (3.1.0)\n",
      "Requirement already satisfied: urllib3<1.27,>=1.21.1 in /usr/lib/python3.11/site-packages (from requests>=2.28->jupyterlab-server<3,>=2.3.0->voila) (1.26.16)\n",
      "Requirement already satisfied: ptyprocess in /usr/lib/python3.11/site-packages (from terminado>=0.8.3->jupyter-server<3,>=2.0.0->voila) (0.7.0)\n",
      "Requirement already satisfied: argon2-cffi-bindings in /home/deep-thought/.local/lib/python3.11/site-packages (from argon2-cffi->jupyter-server<3,>=2.0.0->voila) (21.2.0)\n",
      "Requirement already satisfied: soupsieve>1.2 in /usr/lib/python3.11/site-packages (from beautifulsoup4->nbconvert<8,>=6.4.5->voila) (2.4.1)\n",
      "Requirement already satisfied: fqdn in /home/deep-thought/.local/lib/python3.11/site-packages (from jsonschema>=4.17.3->jupyterlab-server<3,>=2.3.0->voila) (1.5.1)\n",
      "Requirement already satisfied: isoduration in /home/deep-thought/.local/lib/python3.11/site-packages (from jsonschema>=4.17.3->jupyterlab-server<3,>=2.3.0->voila) (20.11.0)\n",
      "Requirement already satisfied: jsonpointer>1.13 in /home/deep-thought/.local/lib/python3.11/site-packages (from jsonschema>=4.17.3->jupyterlab-server<3,>=2.3.0->voila) (2.4)\n",
      "Requirement already satisfied: uri-template in /home/deep-thought/.local/lib/python3.11/site-packages (from jsonschema>=4.17.3->jupyterlab-server<3,>=2.3.0->voila) (1.3.0)\n",
      "Requirement already satisfied: webcolors>=1.11 in /home/deep-thought/.local/lib/python3.11/site-packages (from jsonschema>=4.17.3->jupyterlab-server<3,>=2.3.0->voila) (1.13)\n",
      "Requirement already satisfied: cffi>=1.0.1 in /usr/lib64/python3.11/site-packages (from argon2-cffi-bindings->argon2-cffi->jupyter-server<3,>=2.0.0->voila) (1.15.1)\n",
      "Requirement already satisfied: pycparser in /usr/lib/python3.11/site-packages (from cffi>=1.0.1->argon2-cffi-bindings->argon2-cffi->jupyter-server<3,>=2.0.0->voila) (2.20)\n",
      "Requirement already satisfied: arrow>=0.15.0 in /home/deep-thought/.local/lib/python3.11/site-packages (from isoduration->jsonschema>=4.17.3->jupyterlab-server<3,>=2.3.0->voila) (1.2.3)\n",
      "Requirement already satisfied: ply==3.11 in /usr/lib/python3.11/site-packages (from pycparser->cffi>=1.0.1->argon2-cffi-bindings->argon2-cffi->jupyter-server<3,>=2.0.0->voila) (3.11)\n",
      "usage: jupyter [-h] [--version] [--config-dir] [--data-dir] [--runtime-dir]\n",
      "               [--paths] [--json] [--debug]\n",
      "               [subcommand]\n",
      "\n",
      "Jupyter: Interactive Computing\n",
      "\n",
      "positional arguments:\n",
      "  subcommand     the subcommand to launch\n",
      "\n",
      "options:\n",
      "  -h, --help     show this help message and exit\n",
      "  --version      show the versions of core jupyter packages and exit\n",
      "  --config-dir   show Jupyter config dir\n",
      "  --data-dir     show Jupyter data dir\n",
      "  --runtime-dir  show Jupyter runtime dir\n",
      "  --paths        show all Jupyter paths. Add --json for machine-readable\n",
      "                 format.\n",
      "  --json         output paths as machine-readable json\n",
      "  --debug        output debug information about paths\n",
      "\n",
      "Available subcommands: console contrib dejavu events execute kernel kernelspec\n",
      "lab labextension labhub migrate nbconvert nbextensions_configurator notebook\n",
      "qtconsole run server troubleshoot trust\n",
      "\n",
      "Jupyter command `jupyter-serverextension` not found.\n"
     ]
    }
   ],
   "source": [
    "!pip install voila\n",
    "!jupyter serverextension enable --sys-prefix voila"
   ]
  },
  {
   "cell_type": "code",
   "execution_count": 3,
   "id": "16b9ed52-2a1a-469b-8ad9-787380828e45",
   "metadata": {},
   "outputs": [
    {
     "name": "stdout",
     "output_type": "stream",
     "text": [
      "Selected Jupyter core packages...\n",
      "IPython          : 8.14.0\n",
      "ipykernel        : 6.25.1\n",
      "ipywidgets       : 7.8.0\n",
      "jupyter_client   : 8.3.1\n",
      "jupyter_core     : 5.3.1\n",
      "jupyter_server   : 2.7.2\n",
      "jupyterlab       : 4.0.5\n",
      "nbclient         : 0.7.4\n",
      "nbconvert        : 7.8.0\n",
      "nbformat         : 5.9.2\n",
      "notebook         : 7.0.3\n",
      "qtconsole        : 5.4.3\n",
      "traitlets        : 5.9.0\n"
     ]
    }
   ],
   "source": [
    "!jupyter --version"
   ]
  },
  {
   "cell_type": "code",
   "execution_count": 4,
   "id": "1e1330ec-5851-4d58-bd3b-6fb0e14bc49e",
   "metadata": {},
   "outputs": [
    {
     "name": "stdout",
     "output_type": "stream",
     "text": [
      "7.0.3\n"
     ]
    }
   ],
   "source": [
    "!jupyter notebook --version"
   ]
  },
  {
   "cell_type": "code",
   "execution_count": 6,
   "id": "93d2a4a7-41fd-40ee-bf14-85dc972c389b",
   "metadata": {},
   "outputs": [],
   "source": [
    "!pip install -Uqq fastbook\n",
    "import fastbook\n",
    "fastbook.setup_book()"
   ]
  },
  {
   "cell_type": "code",
   "execution_count": 7,
   "id": "b50152df-aba5-4f70-9e77-757d6d7bd22a",
   "metadata": {},
   "outputs": [],
   "source": [
    "import os\n",
    "from fastbook import *\n",
    "from fastdownload import download_url\n",
    "from fastai.vision.widgets import *"
   ]
  },
  {
   "cell_type": "code",
   "execution_count": 9,
   "id": "1332f911-2db5-44db-bc07-9244d6c9cada",
   "metadata": {},
   "outputs": [],
   "source": [
    "penguin_types = 'adelie','chinstrap','emperor','gentoo'\n",
    "path = Path('penguins')\n",
    "if not path.exists():\n",
    "    path.mkdir()"
   ]
  },
  {
   "cell_type": "code",
   "execution_count": 11,
   "id": "f1fa5f32-6ba8-45ff-a940-643c3914f010",
   "metadata": {},
   "outputs": [],
   "source": [
    "learn_inf = load_learner('export.pkl')"
   ]
  },
  {
   "cell_type": "code",
   "execution_count": 12,
   "id": "2765f49a-192c-47af-aaa1-d57598052128",
   "metadata": {},
   "outputs": [
    {
     "name": "stdout",
     "output_type": "stream",
     "text": [
      "Defaulting to user installation because normal site-packages is not writeable\n",
      "Requirement already satisfied: ipywidgets in /home/deep-thought/.local/lib/python3.11/site-packages (7.8.0)\n",
      "Requirement already satisfied: comm>=0.1.3 in /home/deep-thought/.local/lib/python3.11/site-packages (from ipywidgets) (0.1.4)\n",
      "Requirement already satisfied: ipython-genutils~=0.2.0 in /home/deep-thought/.local/lib/python3.11/site-packages (from ipywidgets) (0.2.0)\n",
      "Requirement already satisfied: traitlets>=4.3.1 in /home/deep-thought/.local/lib/python3.11/site-packages (from ipywidgets) (5.9.0)\n",
      "Requirement already satisfied: widgetsnbextension~=3.6.5 in /home/deep-thought/.local/lib/python3.11/site-packages (from ipywidgets) (3.6.5)\n",
      "Requirement already satisfied: ipython>=4.0.0 in /home/deep-thought/.local/lib/python3.11/site-packages (from ipywidgets) (8.14.0)\n",
      "Requirement already satisfied: jupyterlab-widgets<3,>=1.0.0 in /home/deep-thought/.local/lib/python3.11/site-packages (from ipywidgets) (1.1.5)\n",
      "Requirement already satisfied: backcall in /home/deep-thought/.local/lib/python3.11/site-packages (from ipython>=4.0.0->ipywidgets) (0.2.0)\n",
      "Requirement already satisfied: decorator in /usr/lib/python3.11/site-packages (from ipython>=4.0.0->ipywidgets) (5.1.1)\n",
      "Requirement already satisfied: jedi>=0.16 in /home/deep-thought/.local/lib/python3.11/site-packages (from ipython>=4.0.0->ipywidgets) (0.19.0)\n",
      "Requirement already satisfied: matplotlib-inline in /home/deep-thought/.local/lib/python3.11/site-packages (from ipython>=4.0.0->ipywidgets) (0.1.6)\n",
      "Requirement already satisfied: pickleshare in /home/deep-thought/.local/lib/python3.11/site-packages (from ipython>=4.0.0->ipywidgets) (0.7.5)\n",
      "Requirement already satisfied: prompt-toolkit!=3.0.37,<3.1.0,>=3.0.30 in /home/deep-thought/.local/lib/python3.11/site-packages (from ipython>=4.0.0->ipywidgets) (3.0.39)\n",
      "Requirement already satisfied: pygments>=2.4.0 in /home/deep-thought/.local/lib/python3.11/site-packages (from ipython>=4.0.0->ipywidgets) (2.16.1)\n",
      "Requirement already satisfied: stack-data in /home/deep-thought/.local/lib/python3.11/site-packages (from ipython>=4.0.0->ipywidgets) (0.6.2)\n",
      "Requirement already satisfied: pexpect>4.3 in /usr/lib/python3.11/site-packages (from ipython>=4.0.0->ipywidgets) (4.8.0)\n",
      "Requirement already satisfied: notebook>=4.4.1 in /home/deep-thought/.local/lib/python3.11/site-packages (from widgetsnbextension~=3.6.5->ipywidgets) (7.0.3)\n",
      "Requirement already satisfied: parso<0.9.0,>=0.8.3 in /home/deep-thought/.local/lib/python3.11/site-packages (from jedi>=0.16->ipython>=4.0.0->ipywidgets) (0.8.3)\n",
      "Requirement already satisfied: jupyter-server<3,>=2.4.0 in /home/deep-thought/.local/lib/python3.11/site-packages (from notebook>=4.4.1->widgetsnbextension~=3.6.5->ipywidgets) (2.7.2)\n",
      "Requirement already satisfied: jupyterlab-server<3,>=2.22.1 in /home/deep-thought/.local/lib/python3.11/site-packages (from notebook>=4.4.1->widgetsnbextension~=3.6.5->ipywidgets) (2.24.0)\n",
      "Requirement already satisfied: jupyterlab<5,>=4.0.2 in /home/deep-thought/.local/lib/python3.11/site-packages (from notebook>=4.4.1->widgetsnbextension~=3.6.5->ipywidgets) (4.0.5)\n",
      "Requirement already satisfied: notebook-shim<0.3,>=0.2 in /home/deep-thought/.local/lib/python3.11/site-packages (from notebook>=4.4.1->widgetsnbextension~=3.6.5->ipywidgets) (0.2.3)\n",
      "Requirement already satisfied: tornado>=6.2.0 in /home/deep-thought/.local/lib/python3.11/site-packages (from notebook>=4.4.1->widgetsnbextension~=3.6.5->ipywidgets) (6.3.3)\n",
      "Requirement already satisfied: ptyprocess>=0.5 in /usr/lib/python3.11/site-packages (from pexpect>4.3->ipython>=4.0.0->ipywidgets) (0.7.0)\n",
      "Requirement already satisfied: wcwidth in /home/deep-thought/.local/lib/python3.11/site-packages (from prompt-toolkit!=3.0.37,<3.1.0,>=3.0.30->ipython>=4.0.0->ipywidgets) (0.2.6)\n",
      "Requirement already satisfied: executing>=1.2.0 in /home/deep-thought/.local/lib/python3.11/site-packages (from stack-data->ipython>=4.0.0->ipywidgets) (1.2.0)\n",
      "Requirement already satisfied: asttokens>=2.1.0 in /home/deep-thought/.local/lib/python3.11/site-packages (from stack-data->ipython>=4.0.0->ipywidgets) (2.2.1)\n",
      "Requirement already satisfied: pure-eval in /home/deep-thought/.local/lib/python3.11/site-packages (from stack-data->ipython>=4.0.0->ipywidgets) (0.2.2)\n",
      "Requirement already satisfied: six in /usr/lib/python3.11/site-packages (from asttokens>=2.1.0->stack-data->ipython>=4.0.0->ipywidgets) (1.16.0)\n",
      "Requirement already satisfied: anyio>=3.1.0 in /home/deep-thought/.local/lib/python3.11/site-packages (from jupyter-server<3,>=2.4.0->notebook>=4.4.1->widgetsnbextension~=3.6.5->ipywidgets) (4.0.0)\n",
      "Requirement already satisfied: argon2-cffi in /home/deep-thought/.local/lib/python3.11/site-packages (from jupyter-server<3,>=2.4.0->notebook>=4.4.1->widgetsnbextension~=3.6.5->ipywidgets) (23.1.0)\n",
      "Requirement already satisfied: jinja2 in /home/deep-thought/.local/lib/python3.11/site-packages (from jupyter-server<3,>=2.4.0->notebook>=4.4.1->widgetsnbextension~=3.6.5->ipywidgets) (3.1.2)\n",
      "Requirement already satisfied: jupyter-client>=7.4.4 in /home/deep-thought/.local/lib/python3.11/site-packages (from jupyter-server<3,>=2.4.0->notebook>=4.4.1->widgetsnbextension~=3.6.5->ipywidgets) (8.3.1)\n",
      "Requirement already satisfied: jupyter-core!=5.0.*,>=4.12 in /home/deep-thought/.local/lib/python3.11/site-packages (from jupyter-server<3,>=2.4.0->notebook>=4.4.1->widgetsnbextension~=3.6.5->ipywidgets) (5.3.1)\n",
      "Requirement already satisfied: jupyter-events>=0.6.0 in /home/deep-thought/.local/lib/python3.11/site-packages (from jupyter-server<3,>=2.4.0->notebook>=4.4.1->widgetsnbextension~=3.6.5->ipywidgets) (0.7.0)\n",
      "Requirement already satisfied: jupyter-server-terminals in /home/deep-thought/.local/lib/python3.11/site-packages (from jupyter-server<3,>=2.4.0->notebook>=4.4.1->widgetsnbextension~=3.6.5->ipywidgets) (0.4.4)\n",
      "Requirement already satisfied: nbconvert>=6.4.4 in /home/deep-thought/.local/lib/python3.11/site-packages (from jupyter-server<3,>=2.4.0->notebook>=4.4.1->widgetsnbextension~=3.6.5->ipywidgets) (7.8.0)\n",
      "Requirement already satisfied: nbformat>=5.3.0 in /home/deep-thought/.local/lib/python3.11/site-packages (from jupyter-server<3,>=2.4.0->notebook>=4.4.1->widgetsnbextension~=3.6.5->ipywidgets) (5.9.2)\n",
      "Requirement already satisfied: overrides in /home/deep-thought/.local/lib/python3.11/site-packages (from jupyter-server<3,>=2.4.0->notebook>=4.4.1->widgetsnbextension~=3.6.5->ipywidgets) (7.4.0)\n",
      "Requirement already satisfied: packaging in /usr/lib/python3.11/site-packages (from jupyter-server<3,>=2.4.0->notebook>=4.4.1->widgetsnbextension~=3.6.5->ipywidgets) (23.0)\n",
      "Requirement already satisfied: prometheus-client in /home/deep-thought/.local/lib/python3.11/site-packages (from jupyter-server<3,>=2.4.0->notebook>=4.4.1->widgetsnbextension~=3.6.5->ipywidgets) (0.17.1)\n",
      "Requirement already satisfied: pyzmq>=24 in /home/deep-thought/.local/lib/python3.11/site-packages (from jupyter-server<3,>=2.4.0->notebook>=4.4.1->widgetsnbextension~=3.6.5->ipywidgets) (25.1.1)\n",
      "Requirement already satisfied: send2trash>=1.8.2 in /home/deep-thought/.local/lib/python3.11/site-packages (from jupyter-server<3,>=2.4.0->notebook>=4.4.1->widgetsnbextension~=3.6.5->ipywidgets) (1.8.2)\n",
      "Requirement already satisfied: terminado>=0.8.3 in /home/deep-thought/.local/lib/python3.11/site-packages (from jupyter-server<3,>=2.4.0->notebook>=4.4.1->widgetsnbextension~=3.6.5->ipywidgets) (0.17.1)\n",
      "Requirement already satisfied: websocket-client in /home/deep-thought/.local/lib/python3.11/site-packages (from jupyter-server<3,>=2.4.0->notebook>=4.4.1->widgetsnbextension~=3.6.5->ipywidgets) (1.6.2)\n",
      "Requirement already satisfied: async-lru>=1.0.0 in /home/deep-thought/.local/lib/python3.11/site-packages (from jupyterlab<5,>=4.0.2->notebook>=4.4.1->widgetsnbextension~=3.6.5->ipywidgets) (2.0.4)\n",
      "Requirement already satisfied: ipykernel in /home/deep-thought/.local/lib/python3.11/site-packages (from jupyterlab<5,>=4.0.2->notebook>=4.4.1->widgetsnbextension~=3.6.5->ipywidgets) (6.25.1)\n",
      "Requirement already satisfied: jupyter-lsp>=2.0.0 in /home/deep-thought/.local/lib/python3.11/site-packages (from jupyterlab<5,>=4.0.2->notebook>=4.4.1->widgetsnbextension~=3.6.5->ipywidgets) (2.2.0)\n",
      "Requirement already satisfied: babel>=2.10 in /usr/lib/python3.11/site-packages (from jupyterlab-server<3,>=2.22.1->notebook>=4.4.1->widgetsnbextension~=3.6.5->ipywidgets) (2.11.0)\n",
      "Requirement already satisfied: json5>=0.9.0 in /home/deep-thought/.local/lib/python3.11/site-packages (from jupyterlab-server<3,>=2.22.1->notebook>=4.4.1->widgetsnbextension~=3.6.5->ipywidgets) (0.9.14)\n",
      "Requirement already satisfied: jsonschema>=4.17.3 in /home/deep-thought/.local/lib/python3.11/site-packages (from jupyterlab-server<3,>=2.22.1->notebook>=4.4.1->widgetsnbextension~=3.6.5->ipywidgets) (4.19.0)\n",
      "Requirement already satisfied: requests>=2.28 in /usr/lib/python3.11/site-packages (from jupyterlab-server<3,>=2.22.1->notebook>=4.4.1->widgetsnbextension~=3.6.5->ipywidgets) (2.28.2)\n",
      "Requirement already satisfied: idna>=2.8 in /usr/lib/python3.11/site-packages (from anyio>=3.1.0->jupyter-server<3,>=2.4.0->notebook>=4.4.1->widgetsnbextension~=3.6.5->ipywidgets) (3.4)\n",
      "Requirement already satisfied: sniffio>=1.1 in /home/deep-thought/.local/lib/python3.11/site-packages (from anyio>=3.1.0->jupyter-server<3,>=2.4.0->notebook>=4.4.1->widgetsnbextension~=3.6.5->ipywidgets) (1.3.0)\n",
      "Requirement already satisfied: pytz>=2015.7 in /usr/lib/python3.11/site-packages (from babel>=2.10->jupyterlab-server<3,>=2.22.1->notebook>=4.4.1->widgetsnbextension~=3.6.5->ipywidgets) (2023.3.post1)\n",
      "Requirement already satisfied: MarkupSafe>=2.0 in /usr/lib64/python3.11/site-packages (from jinja2->jupyter-server<3,>=2.4.0->notebook>=4.4.1->widgetsnbextension~=3.6.5->ipywidgets) (2.1.2)\n",
      "Requirement already satisfied: attrs>=22.2.0 in /home/deep-thought/.local/lib/python3.11/site-packages (from jsonschema>=4.17.3->jupyterlab-server<3,>=2.22.1->notebook>=4.4.1->widgetsnbextension~=3.6.5->ipywidgets) (23.1.0)\n",
      "Requirement already satisfied: jsonschema-specifications>=2023.03.6 in /home/deep-thought/.local/lib/python3.11/site-packages (from jsonschema>=4.17.3->jupyterlab-server<3,>=2.22.1->notebook>=4.4.1->widgetsnbextension~=3.6.5->ipywidgets) (2023.7.1)\n",
      "Requirement already satisfied: referencing>=0.28.4 in /home/deep-thought/.local/lib/python3.11/site-packages (from jsonschema>=4.17.3->jupyterlab-server<3,>=2.22.1->notebook>=4.4.1->widgetsnbextension~=3.6.5->ipywidgets) (0.30.2)\n",
      "Requirement already satisfied: rpds-py>=0.7.1 in /home/deep-thought/.local/lib/python3.11/site-packages (from jsonschema>=4.17.3->jupyterlab-server<3,>=2.22.1->notebook>=4.4.1->widgetsnbextension~=3.6.5->ipywidgets) (0.10.0)\n",
      "Requirement already satisfied: python-dateutil>=2.8.2 in /usr/lib/python3.11/site-packages (from jupyter-client>=7.4.4->jupyter-server<3,>=2.4.0->notebook>=4.4.1->widgetsnbextension~=3.6.5->ipywidgets) (2.8.2)\n",
      "Requirement already satisfied: platformdirs>=2.5 in /home/deep-thought/.local/lib/python3.11/site-packages (from jupyter-core!=5.0.*,>=4.12->jupyter-server<3,>=2.4.0->notebook>=4.4.1->widgetsnbextension~=3.6.5->ipywidgets) (3.10.0)\n",
      "Requirement already satisfied: python-json-logger>=2.0.4 in /home/deep-thought/.local/lib/python3.11/site-packages (from jupyter-events>=0.6.0->jupyter-server<3,>=2.4.0->notebook>=4.4.1->widgetsnbextension~=3.6.5->ipywidgets) (2.0.7)\n",
      "Requirement already satisfied: pyyaml>=5.3 in /usr/lib64/python3.11/site-packages (from jupyter-events>=0.6.0->jupyter-server<3,>=2.4.0->notebook>=4.4.1->widgetsnbextension~=3.6.5->ipywidgets) (6.0)\n",
      "Requirement already satisfied: rfc3339-validator in /home/deep-thought/.local/lib/python3.11/site-packages (from jupyter-events>=0.6.0->jupyter-server<3,>=2.4.0->notebook>=4.4.1->widgetsnbextension~=3.6.5->ipywidgets) (0.1.4)\n",
      "Requirement already satisfied: rfc3986-validator>=0.1.1 in /home/deep-thought/.local/lib/python3.11/site-packages (from jupyter-events>=0.6.0->jupyter-server<3,>=2.4.0->notebook>=4.4.1->widgetsnbextension~=3.6.5->ipywidgets) (0.1.1)\n",
      "Requirement already satisfied: beautifulsoup4 in /usr/lib/python3.11/site-packages (from nbconvert>=6.4.4->jupyter-server<3,>=2.4.0->notebook>=4.4.1->widgetsnbextension~=3.6.5->ipywidgets) (4.12.2)\n",
      "Requirement already satisfied: bleach!=5.0.0 in /home/deep-thought/.local/lib/python3.11/site-packages (from nbconvert>=6.4.4->jupyter-server<3,>=2.4.0->notebook>=4.4.1->widgetsnbextension~=3.6.5->ipywidgets) (6.0.0)\n",
      "Requirement already satisfied: defusedxml in /home/deep-thought/.local/lib/python3.11/site-packages (from nbconvert>=6.4.4->jupyter-server<3,>=2.4.0->notebook>=4.4.1->widgetsnbextension~=3.6.5->ipywidgets) (0.7.1)\n",
      "Requirement already satisfied: jupyterlab-pygments in /home/deep-thought/.local/lib/python3.11/site-packages (from nbconvert>=6.4.4->jupyter-server<3,>=2.4.0->notebook>=4.4.1->widgetsnbextension~=3.6.5->ipywidgets) (0.2.2)\n",
      "Requirement already satisfied: mistune<4,>=2.0.3 in /home/deep-thought/.local/lib/python3.11/site-packages (from nbconvert>=6.4.4->jupyter-server<3,>=2.4.0->notebook>=4.4.1->widgetsnbextension~=3.6.5->ipywidgets) (3.0.1)\n",
      "Requirement already satisfied: nbclient>=0.5.0 in /home/deep-thought/.local/lib/python3.11/site-packages (from nbconvert>=6.4.4->jupyter-server<3,>=2.4.0->notebook>=4.4.1->widgetsnbextension~=3.6.5->ipywidgets) (0.7.4)\n",
      "Requirement already satisfied: pandocfilters>=1.4.1 in /home/deep-thought/.local/lib/python3.11/site-packages (from nbconvert>=6.4.4->jupyter-server<3,>=2.4.0->notebook>=4.4.1->widgetsnbextension~=3.6.5->ipywidgets) (1.5.0)\n",
      "Requirement already satisfied: tinycss2 in /home/deep-thought/.local/lib/python3.11/site-packages (from nbconvert>=6.4.4->jupyter-server<3,>=2.4.0->notebook>=4.4.1->widgetsnbextension~=3.6.5->ipywidgets) (1.2.1)\n",
      "Requirement already satisfied: fastjsonschema in /home/deep-thought/.local/lib/python3.11/site-packages (from nbformat>=5.3.0->jupyter-server<3,>=2.4.0->notebook>=4.4.1->widgetsnbextension~=3.6.5->ipywidgets) (2.18.0)\n",
      "Requirement already satisfied: charset-normalizer<4,>=2 in /usr/lib/python3.11/site-packages (from requests>=2.28->jupyterlab-server<3,>=2.22.1->notebook>=4.4.1->widgetsnbextension~=3.6.5->ipywidgets) (3.1.0)\n",
      "Requirement already satisfied: urllib3<1.27,>=1.21.1 in /usr/lib/python3.11/site-packages (from requests>=2.28->jupyterlab-server<3,>=2.22.1->notebook>=4.4.1->widgetsnbextension~=3.6.5->ipywidgets) (1.26.16)\n",
      "Requirement already satisfied: argon2-cffi-bindings in /home/deep-thought/.local/lib/python3.11/site-packages (from argon2-cffi->jupyter-server<3,>=2.4.0->notebook>=4.4.1->widgetsnbextension~=3.6.5->ipywidgets) (21.2.0)\n",
      "Requirement already satisfied: debugpy>=1.6.5 in /home/deep-thought/.local/lib/python3.11/site-packages (from ipykernel->jupyterlab<5,>=4.0.2->notebook>=4.4.1->widgetsnbextension~=3.6.5->ipywidgets) (1.6.7.post1)\n",
      "Requirement already satisfied: nest-asyncio in /home/deep-thought/.local/lib/python3.11/site-packages (from ipykernel->jupyterlab<5,>=4.0.2->notebook>=4.4.1->widgetsnbextension~=3.6.5->ipywidgets) (1.5.7)\n",
      "Requirement already satisfied: psutil in /home/deep-thought/.local/lib/python3.11/site-packages (from ipykernel->jupyterlab<5,>=4.0.2->notebook>=4.4.1->widgetsnbextension~=3.6.5->ipywidgets) (5.9.5)\n",
      "Requirement already satisfied: webencodings in /home/deep-thought/.local/lib/python3.11/site-packages (from bleach!=5.0.0->nbconvert>=6.4.4->jupyter-server<3,>=2.4.0->notebook>=4.4.1->widgetsnbextension~=3.6.5->ipywidgets) (0.5.1)\n",
      "Requirement already satisfied: fqdn in /home/deep-thought/.local/lib/python3.11/site-packages (from jsonschema>=4.17.3->jupyterlab-server<3,>=2.22.1->notebook>=4.4.1->widgetsnbextension~=3.6.5->ipywidgets) (1.5.1)\n",
      "Requirement already satisfied: isoduration in /home/deep-thought/.local/lib/python3.11/site-packages (from jsonschema>=4.17.3->jupyterlab-server<3,>=2.22.1->notebook>=4.4.1->widgetsnbextension~=3.6.5->ipywidgets) (20.11.0)\n",
      "Requirement already satisfied: jsonpointer>1.13 in /home/deep-thought/.local/lib/python3.11/site-packages (from jsonschema>=4.17.3->jupyterlab-server<3,>=2.22.1->notebook>=4.4.1->widgetsnbextension~=3.6.5->ipywidgets) (2.4)\n",
      "Requirement already satisfied: uri-template in /home/deep-thought/.local/lib/python3.11/site-packages (from jsonschema>=4.17.3->jupyterlab-server<3,>=2.22.1->notebook>=4.4.1->widgetsnbextension~=3.6.5->ipywidgets) (1.3.0)\n",
      "Requirement already satisfied: webcolors>=1.11 in /home/deep-thought/.local/lib/python3.11/site-packages (from jsonschema>=4.17.3->jupyterlab-server<3,>=2.22.1->notebook>=4.4.1->widgetsnbextension~=3.6.5->ipywidgets) (1.13)\n",
      "Requirement already satisfied: cffi>=1.0.1 in /usr/lib64/python3.11/site-packages (from argon2-cffi-bindings->argon2-cffi->jupyter-server<3,>=2.4.0->notebook>=4.4.1->widgetsnbextension~=3.6.5->ipywidgets) (1.15.1)\n",
      "Requirement already satisfied: soupsieve>1.2 in /usr/lib/python3.11/site-packages (from beautifulsoup4->nbconvert>=6.4.4->jupyter-server<3,>=2.4.0->notebook>=4.4.1->widgetsnbextension~=3.6.5->ipywidgets) (2.4.1)\n",
      "Requirement already satisfied: pycparser in /usr/lib/python3.11/site-packages (from cffi>=1.0.1->argon2-cffi-bindings->argon2-cffi->jupyter-server<3,>=2.4.0->notebook>=4.4.1->widgetsnbextension~=3.6.5->ipywidgets) (2.20)\n",
      "Requirement already satisfied: arrow>=0.15.0 in /home/deep-thought/.local/lib/python3.11/site-packages (from isoduration->jsonschema>=4.17.3->jupyterlab-server<3,>=2.22.1->notebook>=4.4.1->widgetsnbextension~=3.6.5->ipywidgets) (1.2.3)\n",
      "Requirement already satisfied: ply==3.11 in /usr/lib/python3.11/site-packages (from pycparser->cffi>=1.0.1->argon2-cffi-bindings->argon2-cffi->jupyter-server<3,>=2.4.0->notebook>=4.4.1->widgetsnbextension~=3.6.5->ipywidgets) (3.11)\n"
     ]
    }
   ],
   "source": [
    "!pip install ipywidgets"
   ]
  },
  {
   "cell_type": "code",
   "execution_count": 13,
   "id": "1fa77b32-ba8f-4ba9-90ef-88834b90b2fc",
   "metadata": {},
   "outputs": [
    {
     "data": {
      "application/vnd.jupyter.widget-view+json": {
       "model_id": "28b534f42bf34edcaede1791cea01bb9",
       "version_major": 2,
       "version_minor": 0
      },
      "text/plain": [
       "FileUpload(value={}, description='Upload')"
      ]
     },
     "metadata": {},
     "output_type": "display_data"
    }
   ],
   "source": [
    "btn_upload = widgets.FileUpload()\n",
    "btn_upload"
   ]
  },
  {
   "cell_type": "code",
   "execution_count": 14,
   "id": "a2d1e22e-be50-41e7-9192-1616c2cef086",
   "metadata": {},
   "outputs": [],
   "source": [
    "# the upload button cannot be clicked, defining it manually\n",
    "btn_upload = SimpleNamespace(data = ['images/king_peng.jpg'])"
   ]
  },
  {
   "cell_type": "code",
   "execution_count": 15,
   "id": "f0bae376-d739-4f29-a08d-7c89729f6a97",
   "metadata": {},
   "outputs": [],
   "source": [
    "img = PILImage.create(btn_upload.data[-1])"
   ]
  },
  {
   "cell_type": "code",
   "execution_count": 16,
   "id": "4e0e59cb-5ea2-4fa1-9bc8-447471e757c1",
   "metadata": {},
   "outputs": [
    {
     "data": {
      "application/vnd.jupyter.widget-view+json": {
       "model_id": "a22ddb9896344d0ca9d7884031da8fac",
       "version_major": 2,
       "version_minor": 0
      },
      "text/plain": [
       "Output()"
      ]
     },
     "metadata": {},
     "output_type": "display_data"
    }
   ],
   "source": [
    "out_pl = widgets.Output()\n",
    "out_pl.clear_output()\n",
    "with out_pl: display(img.to_thumb(128,128))\n",
    "out_pl"
   ]
  },
  {
   "cell_type": "code",
   "execution_count": 17,
   "id": "1e658768-d14e-46eb-8d97-e8945d19870e",
   "metadata": {},
   "outputs": [
    {
     "data": {
      "text/html": [
       "\n",
       "<style>\n",
       "    /* Turns off some styling */\n",
       "    progress {\n",
       "        /* gets rid of default border in Firefox and Opera. */\n",
       "        border: none;\n",
       "        /* Needs to be in here for Safari polyfill so background images work as expected. */\n",
       "        background-size: auto;\n",
       "    }\n",
       "    progress:not([value]), progress:not([value])::-webkit-progress-bar {\n",
       "        background: repeating-linear-gradient(45deg, #7e7e7e, #7e7e7e 10px, #5c5c5c 10px, #5c5c5c 20px);\n",
       "    }\n",
       "    .progress-bar-interrupted, .progress-bar-interrupted::-webkit-progress-bar {\n",
       "        background: #F44336;\n",
       "    }\n",
       "</style>\n"
      ],
      "text/plain": [
       "<IPython.core.display.HTML object>"
      ]
     },
     "metadata": {},
     "output_type": "display_data"
    },
    {
     "data": {
      "text/html": [],
      "text/plain": [
       "<IPython.core.display.HTML object>"
      ]
     },
     "metadata": {},
     "output_type": "display_data"
    }
   ],
   "source": [
    "pred,pred_idx,probs = learn_inf.predict(img)"
   ]
  },
  {
   "cell_type": "code",
   "execution_count": 18,
   "id": "f5cfe3ad-c00a-4b14-b25b-17ddb385bdcb",
   "metadata": {},
   "outputs": [
    {
     "data": {
      "application/vnd.jupyter.widget-view+json": {
       "model_id": "d2c36ea373d44297b655d8c18f127b98",
       "version_major": 2,
       "version_minor": 0
      },
      "text/plain": [
       "Label(value='Prediction: emperor; Probability: 0.9999')"
      ]
     },
     "metadata": {},
     "output_type": "display_data"
    }
   ],
   "source": [
    "lbl_pred = widgets.Label()\n",
    "lbl_pred.value = f'Prediction: {pred}; Probability: {probs[pred_idx]:.04f}'\n",
    "lbl_pred"
   ]
  },
  {
   "cell_type": "code",
   "execution_count": 19,
   "id": "907383f4-0ff9-4eb7-bf1c-f702b27613c8",
   "metadata": {},
   "outputs": [
    {
     "data": {
      "application/vnd.jupyter.widget-view+json": {
       "model_id": "8a8c5b2f39e64e1dbc1aeb765dde3603",
       "version_major": 2,
       "version_minor": 0
      },
      "text/plain": [
       "Button(description='Classify', style=ButtonStyle())"
      ]
     },
     "metadata": {},
     "output_type": "display_data"
    }
   ],
   "source": [
    "# Button to do the classification\n",
    "btn_run = widgets.Button(description='Classify')\n",
    "btn_run"
   ]
  },
  {
   "cell_type": "code",
   "execution_count": 20,
   "id": "f72b120e-e450-4a73-bf69-cad95f55a652",
   "metadata": {},
   "outputs": [],
   "source": [
    "def on_click_classify(change):\n",
    "    img = PILImage.create(btn_upload.data[-1])\n",
    "    out_pl.clear_output()\n",
    "    with out_pl: display(img.to_thumb(128,128))\n",
    "    pred,pred_idx,probs = learn_inf.predict(img)\n",
    "    lbl_pred.value = f'Prediction: {pred}; Probability: {probs[pred_idx]:.04f}'\n",
    "\n",
    "btn_run.on_click(on_click_classify)"
   ]
  },
  {
   "cell_type": "code",
   "execution_count": 21,
   "id": "e53173da-23e7-4ed0-8f95-e4a9889bca1f",
   "metadata": {},
   "outputs": [],
   "source": [
    "#Putting back btn_upload to a widget for next cell\n",
    "btn_upload = widgets.FileUpload()"
   ]
  },
  {
   "cell_type": "code",
   "execution_count": 22,
   "id": "316863f4-36d4-4233-8e4e-1765ace09188",
   "metadata": {},
   "outputs": [
    {
     "data": {
      "application/vnd.jupyter.widget-view+json": {
       "model_id": "4acc21c2705b49b48a28917431a63643",
       "version_major": 2,
       "version_minor": 0
      },
      "text/plain": [
       "VBox(children=(Label(value='Select your Penguin!'), FileUpload(value={}, description='Upload'), Button(descrip…"
      ]
     },
     "metadata": {},
     "output_type": "display_data"
    }
   ],
   "source": [
    "VBox([widgets.Label('Select your Penguin!'), \n",
    "      btn_upload, btn_run, out_pl, lbl_pred])"
   ]
  },
  {
   "cell_type": "code",
   "execution_count": null,
   "id": "992a4c0d-70c8-4193-92d3-5dcd35ef9b9c",
   "metadata": {},
   "outputs": [],
   "source": []
  },
  {
   "cell_type": "code",
   "execution_count": null,
   "id": "e1bb4faa-e1c0-4421-a004-fd18f01946a3",
   "metadata": {},
   "outputs": [],
   "source": []
  },
  {
   "cell_type": "code",
   "execution_count": null,
   "id": "1b4bdf53-33e9-45c8-bd7f-79bcf1854f04",
   "metadata": {},
   "outputs": [],
   "source": []
  },
  {
   "cell_type": "code",
   "execution_count": null,
   "id": "5a449bd1-e31e-4f55-8b18-54c24bd15ec5",
   "metadata": {},
   "outputs": [],
   "source": []
  },
  {
   "cell_type": "code",
   "execution_count": null,
   "id": "7e24ad08-cc00-4b66-b880-7c0d89ae73e2",
   "metadata": {},
   "outputs": [],
   "source": []
  }
 ],
 "metadata": {
  "kernelspec": {
   "display_name": "Python 3 (ipykernel)",
   "language": "python",
   "name": "python3"
  },
  "language_info": {
   "codemirror_mode": {
    "name": "ipython",
    "version": 3
   },
   "file_extension": ".py",
   "mimetype": "text/x-python",
   "name": "python",
   "nbconvert_exporter": "python",
   "pygments_lexer": "ipython3",
   "version": "3.11.4"
  }
 },
 "nbformat": 4,
 "nbformat_minor": 5
}
